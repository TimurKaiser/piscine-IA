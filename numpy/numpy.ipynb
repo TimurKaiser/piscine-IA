{
 "cells": [
  {
   "cell_type": "markdown",
   "id": "27d801a4-9209-4983-a942-51ea65456f59",
   "metadata": {
    "vscode": {
     "languageId": "python"
    }
   },
   "source": [
    "# H1 TTILE\n",
    "## H2 TITLE"
   ]
  },
  {
   "cell_type": "code",
   "execution_count": 84,
   "id": "7630b824",
   "metadata": {},
   "outputs": [
    {
     "name": "stdout",
     "output_type": "stream",
     "text": [
      "Buy the dip ?\n"
     ]
    }
   ],
   "source": [
    "print(\"Buy the dip ?\")"
   ]
  },
  {
   "cell_type": "code",
   "execution_count": 85,
   "id": "02d6d022",
   "metadata": {},
   "outputs": [
    {
     "name": "stdout",
     "output_type": "stream",
     "text": [
      "<class 'int'>\n",
      "<class 'float'>\n",
      "<class 'str'>\n",
      "<class 'dict'>\n",
      "<class 'list'>\n",
      "<class 'tuple'>\n",
      "<class 'set'>\n",
      "<class 'bool'>\n"
     ]
    }
   ],
   "source": [
    "import numpy as np\n",
    "\n",
    "myArray = np.array([1, 01.2021, \"Hello World\", {\"key\": \"value\"}, [0,1,2,3,4], (5,6), {7,8}, True], dtype=object)\n",
    "\n",
    "for i in myArray:\n",
    "    print(type(i))\n"
   ]
  },
  {
   "cell_type": "code",
   "execution_count": 86,
   "id": "0d995b7b",
   "metadata": {},
   "outputs": [
    {
     "name": "stdout",
     "output_type": "stream",
     "text": [
      "[0. 0. 0. 0. 0. 0. 0. 0. 0. 0. 0. 0. 0. 0. 0. 0. 0. 0. 0. 0. 0. 0. 0. 0.\n",
      " 0. 0. 0. 0. 0. 0. 0. 0. 0. 0. 0. 0. 0. 0. 0. 0. 0. 0. 0. 0. 0. 0. 0. 0.\n",
      " 0. 0. 0. 0. 0. 0. 0. 0. 0. 0. 0. 0. 0. 0. 0. 0. 0. 0. 0. 0. 0. 0. 0. 0.\n",
      " 0. 0. 0. 0. 0. 0. 0. 0. 0. 0. 0. 0. 0. 0. 0. 0. 0. 0. 0. 0. 0. 0. 0. 0.\n",
      " 0. 0. 0. 0.]\n",
      "[0. 0. 0. 0. 0. 0. 0. 0. 0. 0. 0. 0. 0. 0. 0. 0. 0. 0. 0. 0. 0. 0. 0. 0.\n",
      " 0. 0. 0. 0. 0. 0. 0. 0. 0. 0. 0. 0. 0. 0. 0. 0. 0. 0. 0. 0. 0. 0. 0. 0.\n",
      " 0. 0. 0. 0. 0. 0. 0. 0. 0. 0. 0. 0. 0. 0. 0. 0. 0. 0. 0. 0. 0. 0. 0. 0.\n",
      " 0. 0. 0. 0. 0. 0. 0. 0. 0. 0. 0. 0. 0. 0. 0. 0. 0. 0. 0. 0. 0. 0. 0. 0.\n",
      " 0. 0. 0. 0.]\n",
      "[0. 0. 0. 0. 0. 0. 0. 0. 0. 0. 0. 0. 0. 0. 0. 0. 0. 0. 0. 0. 0. 0. 0. 0.\n",
      " 0. 0. 0. 0. 0. 0. 0. 0. 0. 0. 0. 0. 0. 0. 0. 0. 0. 0. 0. 0. 0. 0. 0. 0.\n",
      " 0. 0. 0. 0. 0. 0. 0. 0. 0. 0. 0. 0. 0. 0. 0. 0. 0. 0. 0. 0. 0. 0. 0. 0.\n",
      " 0. 0. 0. 0. 0. 0. 0. 0. 0. 0. 0. 0. 0. 0. 0. 0. 0. 0. 0. 0. 0. 0. 0. 0.\n",
      " 0. 0. 0. 0.]\n"
     ]
    }
   ],
   "source": [
    "my1dArray = np.zeros(300)\n",
    "\n",
    "\n",
    "my2dArray = my1dArray.reshape(3, 100) \n",
    "\n",
    "\n",
    "for i in my2dArray:\n",
    "    print(i)"
   ]
  },
  {
   "cell_type": "code",
   "execution_count": 87,
   "id": "d6f11d4f",
   "metadata": {},
   "outputs": [
    {
     "name": "stdout",
     "output_type": "stream",
     "text": [
      "[  1   2   3   4   5   6   7   8   9  10  11  12  13  14  15  16  17  18\n",
      "  19  20  21  22  23  24  25  26  27  28  29  30  31  32  33  34  35  36\n",
      "  37  38  39  40  41  42  43  44  45  46  47  48  49  50  51  52  53  54\n",
      "  55  56  57  58  59  60  61  62  63  64  65  66  67  68  69  70  71  72\n",
      "  73  74  75  76  77  78  79  80  81  82  83  84  85  86  87  88  89  90\n",
      "  91  92  93  94  95  96  97  98  99 100]\n"
     ]
    }
   ],
   "source": [
    "array = np.arange(1, 101) # 101 is exclude\n",
    "\n",
    "print(array)"
   ]
  },
  {
   "cell_type": "code",
   "execution_count": 88,
   "id": "14ab001b",
   "metadata": {},
   "outputs": [
    {
     "name": "stdout",
     "output_type": "stream",
     "text": [
      "[ 1  3  5  7  9 11 13 15 17 19 21 23 25 27 29 31 33 35 37 39 41 43 45 47\n",
      " 49 51 53 55 57 59 61 63 65 67 69 71 73 75 77 79 81 83 85 87 89 91 93 95\n",
      " 97 99]\n"
     ]
    }
   ],
   "source": [
    "oddMask = array % 2 == 1 \n",
    "\n",
    "myOddArray = array[oddMask]\n",
    "\n",
    "print(myOddArray)"
   ]
  },
  {
   "cell_type": "code",
   "execution_count": 89,
   "id": "1c1d93d4",
   "metadata": {},
   "outputs": [
    {
     "name": "stdout",
     "output_type": "stream",
     "text": [
      "[100  99  98  97  96  95  94  93  92  91  90  89  88  87  86  85  84  83\n",
      "  82  81  80  79  78  77  76  75  74  73  72  71  70  69  68  67  66  65\n",
      "  64  63  62  61  60  59  58  57  56  55  54  53  52  51  50  49  48  47\n",
      "  46  45  44  43  42  41  40  39  38  37  36  35  34  33  32  31  30  29\n",
      "  28  27  26  25  24  23  22  21  20  19  18  17  16  15  14  13  12  11\n",
      "  10   9   8   7   6   5   4   3   2   1]\n",
      "[100  98  96  94  92  90  88  86  84  82  80  78  76  74  72  70  68  66\n",
      "  64  62  60  58  56  54  52  50  48  46  44  42  40  38  36  34  32  30\n",
      "  28  26  24  22  20  18  16  14  12  10   8   6   4   2]\n"
     ]
    }
   ],
   "source": [
    "reversedArray = np.flip(array)\n",
    "\n",
    "print(reversedArray)\n",
    "\n",
    "\n",
    "evenMask = reversedArray % 2 == 0\n",
    "\n",
    "myEvenArray = reversedArray[evenMask]\n",
    "\n",
    "print(myEvenArray)"
   ]
  },
  {
   "cell_type": "code",
   "execution_count": 90,
   "id": "fbc8d891",
   "metadata": {},
   "outputs": [
    {
     "name": "stdout",
     "output_type": "stream",
     "text": [
      "[  1   0   3   4   0   6   7   0   9  10   0  12  13   0  15  16   0  18\n",
      "  19   0  21  22   0  24  25   0  27  28   0  30  31   0  33  34   0  36\n",
      "  37   0  39  40   0  42  43   0  45  46   0  48  49   0  51  52   0  54\n",
      "  55   0  57  58   0  60  61   0  63  64   0  66  67   0  69  70   0  72\n",
      "  73   0  75  76   0  78  79   0  81  82   0  84  85   0  87  88   0  90\n",
      "  91   0  93  94   0  96  97   0  99 100]\n"
     ]
    }
   ],
   "source": [
    "modifiedArray = array.copy()\n",
    "\n",
    "modifiedArray[1::3] = 0\n",
    "\n",
    "print(modifiedArray)"
   ]
  },
  {
   "cell_type": "code",
   "execution_count": 91,
   "id": "8152612d",
   "metadata": {},
   "outputs": [
    {
     "name": "stdout",
     "output_type": "stream",
     "text": [
      "myData1 :\n",
      " [ 1  2  3  4  5  6  7  8  9 10 11 12 13 14 15 16 17 18 19 20 21 22 23 24\n",
      " 25 26 27 28 29 30 31 32 33 34 35 36 37 38 39 40 41 42 43 44 45 46 47 48\n",
      " 49 50] \n",
      " myData2 :\n",
      " [ 51  52  53  54  55  56  57  58  59  60  61  62  63  64  65  66  67  68\n",
      "  69  70  71  72  73  74  75  76  77  78  79  80  81  82  83  84  85  86\n",
      "  87  88  89  90  91  92  93  94  95  96  97  98  99 100] \n",
      " myConcatenateData :\n",
      " [  1   2   3   4   5   6   7   8   9  10  11  12  13  14  15  16  17  18\n",
      "  19  20  21  22  23  24  25  26  27  28  29  30  31  32  33  34  35  36\n",
      "  37  38  39  40  41  42  43  44  45  46  47  48  49  50  51  52  53  54\n",
      "  55  56  57  58  59  60  61  62  63  64  65  66  67  68  69  70  71  72\n",
      "  73  74  75  76  77  78  79  80  81  82  83  84  85  86  87  88  89  90\n",
      "  91  92  93  94  95  96  97  98  99 100] \n",
      " myReshapedData :\n",
      " [[  1   2   3   4   5   6   7   8   9  10]\n",
      " [ 11  12  13  14  15  16  17  18  19  20]\n",
      " [ 21  22  23  24  25  26  27  28  29  30]\n",
      " [ 31  32  33  34  35  36  37  38  39  40]\n",
      " [ 41  42  43  44  45  46  47  48  49  50]\n",
      " [ 51  52  53  54  55  56  57  58  59  60]\n",
      " [ 61  62  63  64  65  66  67  68  69  70]\n",
      " [ 71  72  73  74  75  76  77  78  79  80]\n",
      " [ 81  82  83  84  85  86  87  88  89  90]\n",
      " [ 91  92  93  94  95  96  97  98  99 100]]\n"
     ]
    }
   ],
   "source": [
    "myData1 = np.arange(1, 51)\n",
    "myData2 = np.arange(51, 101)\n",
    "myConcatenateData = np.concatenate((myData1, myData2))\n",
    "myReshapedData = myConcatenateData.reshape((10, 10))\n",
    "print(\"myData1 :\\n\", myData1, \"\\n myData2 :\\n\", myData2, \"\\n myConcatenateData :\\n\", myConcatenateData, \"\\n myReshapedData :\\n\", myReshapedData)"
   ]
  },
  {
   "cell_type": "code",
   "execution_count": 92,
   "id": "12746b92",
   "metadata": {},
   "outputs": [
    {
     "name": "stdout",
     "output_type": "stream",
     "text": [
      "int8Array :\n",
      " [[1 1 1 1 1 1 1 1 1]\n",
      " [1 1 1 1 1 1 1 1 1]\n",
      " [1 1 1 1 1 1 1 1 1]\n",
      " [1 1 1 1 1 1 1 1 1]\n",
      " [1 1 1 1 1 1 1 1 1]\n",
      " [1 1 1 1 1 1 1 1 1]\n",
      " [1 1 1 1 1 1 1 1 1]\n",
      " [1 1 1 1 1 1 1 1 1]\n",
      " [1 1 1 1 1 1 1 1 1]] \n",
      " modifiedArray :\n",
      " [[1 1 1 1 1 1 1 1 1]\n",
      " [1 0 0 0 0 0 0 0 1]\n",
      " [1 0 1 1 1 1 1 0 1]\n",
      " [1 0 1 0 0 0 1 0 1]\n",
      " [1 0 1 0 1 0 1 0 1]\n",
      " [1 0 1 0 0 0 1 0 1]\n",
      " [1 0 1 1 1 1 1 0 1]\n",
      " [1 0 0 0 0 0 0 0 1]\n",
      " [1 1 1 1 1 1 1 1 1]] \n",
      " broadcastingResult :\n",
      " [[2 3 4]\n",
      " [3 4 5]\n",
      " [4 5 6]\n",
      " [5 6 7]\n",
      " [6 7 8]]\n"
     ]
    }
   ],
   "source": [
    "int8Array = np.ones((9, 9), dtype=np.int8)\n",
    "\n",
    "modifiedArrayForSlicing = np.copy(int8Array)\n",
    "modifiedArrayForBroadcasting = np.copy(int8Array)\n",
    "\n",
    "modifiedArrayForSlicing[1:8, 1:8] = 0\n",
    "modifiedArrayForSlicing[2:7:4, 2:7] = 1\n",
    "modifiedArrayForSlicing[2:7, 2:7:4] = 1\n",
    "modifiedArrayForSlicing[4:5, 4:5] = 1\n",
    "\n",
    "\n",
    "\n",
    "array_1 = np.array([1,2,3,4,5], dtype=np.int8)\n",
    "array_2 = np.array([1,2,3], dtype=np.int8)\n",
    "\n",
    "broadcastingResult = array_1[:, None] + array_2\n",
    "\n",
    "\n",
    "print(\"int8Array :\\n\",int8Array, \"\\n modifiedArray :\\n\", modifiedArrayForSlicing, \"\\n broadcastingResult :\\n\", broadcastingResult)\n"
   ]
  },
  {
   "cell_type": "code",
   "execution_count": 93,
   "id": "3b952b26",
   "metadata": {},
   "outputs": [
    {
     "name": "stdout",
     "output_type": "stream",
     "text": [
      "grades :\n",
      " [[ 7.  1.]\n",
      " [nan  2.]\n",
      " [nan  8.]\n",
      " [ 9.  3.]\n",
      " [ 8.  9.]\n",
      " [nan  2.]\n",
      " [ 8.  2.]\n",
      " [nan  6.]\n",
      " [ 9.  2.]\n",
      " [ 8.  5.]] \n",
      " thirdColumn :\n",
      " [7. 2. 8. 9. 8. 2. 8. 6. 9. 8.] \n",
      " new grades \n",
      " [[ 7.  1.  7.]\n",
      " [nan  2.  2.]\n",
      " [nan  8.  8.]\n",
      " [ 9.  3.  9.]\n",
      " [ 8.  9.  8.]\n",
      " [nan  2.  2.]\n",
      " [ 8.  2.  8.]\n",
      " [nan  6.  6.]\n",
      " [ 9.  2.  9.]\n",
      " [ 8.  5.  8.]]\n"
     ]
    }
   ],
   "source": [
    "generator = np.random.default_rng(123)\n",
    "grades = np.round(generator.uniform(low = 0.0, high = 10.0, size = (10, 2)))\n",
    "grades[[1,2,5,7], [0,0,0,0]] = np.nan\n",
    "\n",
    "\n",
    "thirdColumn = np.where(np.isnan(grades[:, 0]), grades[:, 1], grades[:, 0])\n",
    "\n",
    "newGrades = np.column_stack((grades, thirdColumn))\n",
    "print(\"grades :\\n\", grades, \"\\n thirdColumn :\\n\", thirdColumn, \"\\n new grades \\n\", newGrades)\n"
   ]
  },
  {
   "cell_type": "code",
   "execution_count": 94,
   "id": "c2e25835",
   "metadata": {},
   "outputs": [
    {
     "name": "stdout",
     "output_type": "stream",
     "text": [
      "arraySizeInBytes :\n",
      " 76752 \n",
      " secondRow :\n",
      " [[ 7.8     0.88    0.      2.6     0.098  25.     67.      0.9968  3.2\n",
      "   0.68    9.8     5.    ]] \n",
      " seventhRow :\n",
      " [[ 7.9     0.6     0.06    1.6     0.069  15.     59.      0.9964  3.3\n",
      "   0.46    9.4     5.    ]] \n",
      " twelfthRow :\n",
      " [[7.500e+00 5.000e-01 3.600e-01 6.100e+00 7.100e-02 1.700e+01 1.020e+02\n",
      "  9.978e-01 3.350e+00 8.000e-01 1.050e+01 5.000e+00]] \n",
      " alcoholPercentage :\n",
      " False \n",
      " alcoholAverage :\n",
      " 10.422984091619762\n",
      "minPH :\n",
      " 2.74 \n",
      " maxPh :\n",
      " 4.01 \n",
      " ph25Th :\n",
      " 3.2100000381469727 \n",
      " ph50Th :\n",
      " 3.309999942779541 \n",
      " ph75Th \n",
      " 3.4000000953674316\n",
      "[False False False ... False False False]\n",
      "5.1854305\n",
      "Best of the Best :\n",
      " [ 8.566666    0.4233333   0.39111114  2.5777776   0.06844445 13.277778\n",
      " 33.444443    0.99521226  3.2672222   0.76777774 12.094444    8.        ]\n"
     ]
    }
   ],
   "source": [
    "data = np.genfromtxt('winequality-red.csv', delimiter=';', skip_header=1, dtype=np.float32)\n",
    "\n",
    "arraySizeInBytes = data.nbytes\n",
    "\n",
    "\n",
    "secondRow = data[1:2, :]\n",
    "seventhRow = data[6:7, :]\n",
    "twelfthRow = data[11:12, :]\n",
    "\n",
    "alcoholPercentageCheck = np.isnan(data[:, 10])\n",
    "alcoholPercentage = np.any(data[:, 10] > 20)\n",
    "\n",
    "alcoholAverageCheck = np.isnan(data[:, 10])\n",
    "alcoholSomme = np.sum(data[:, 10])\n",
    "alcoholLen = len(data[:, 10])\n",
    "alcoholAverage = alcoholSomme / alcoholLen\n",
    "\n",
    "\n",
    "print(\n",
    "    \"arraySizeInBytes :\\n\", arraySizeInBytes,\n",
    "    \"\\n secondRow :\\n\", secondRow,\n",
    "    \"\\n seventhRow :\\n\", seventhRow,\n",
    "    \"\\n twelfthRow :\\n\", twelfthRow, \n",
    "    \"\\n alcoholPercentage :\\n\", alcoholPercentage, \n",
    "    \"\\n alcoholAverage :\\n\", alcoholAverage\n",
    ")\n",
    "\n",
    "\n",
    "\n",
    "minPh = np.min(data[:, 8:9])\n",
    "maxPh = np.max(data[:, 8:9])\n",
    "ph25Th = np.percentile(data[:, 8:9], 25)\n",
    "ph50Th = np.percentile(data[:, 8:9], 50)\n",
    "ph75Th = np.percentile(data[:, 8:9], 75)\n",
    "\n",
    "\n",
    "print(\n",
    "    \"minPH :\\n\", minPh, \n",
    "    \"\\n maxPh :\\n\", maxPh, \n",
    "    \"\\n ph25Th :\\n\", ph25Th, \n",
    "    \"\\n ph50Th :\\n\", ph50Th, \n",
    "    \"\\n ph75Th \\n\", ph75Th\n",
    ")\n",
    "\n",
    "\n",
    "\n",
    "sulphateColumn = data[:, 9]\n",
    "qualityColumn = data[:, 11]\n",
    "\n",
    "sulphatePercentage = np.percentile(sulphateColumn, 20)\n",
    "is20PercentMask = sulphateColumn < sulphatePercentage\n",
    "\n",
    "percent20Quality = qualityColumn[is20PercentMask]\n",
    "qualityAverage = np.mean(percent20Quality)\n",
    "\n",
    "print(is20PercentMask)\n",
    "print(qualityAverage)\n",
    "\n",
    "\n",
    "maxQuality = np.max(qualityColumn)\n",
    "\n",
    "\n",
    "\n",
    "\n",
    "bestQualityMask = qualityColumn == maxQuality\n",
    "\n",
    "meanBestQuality = np.mean(data[bestQualityMask], axis=0)\n",
    "print(\"Best of the Best :\\n\", meanBestQuality)\n",
    "\n"
   ]
  },
  {
   "cell_type": "code",
   "execution_count": 101,
   "id": "4b7c72f2-d41b-4612-b577-3919abc76a00",
   "metadata": {},
   "outputs": [
    {
     "data": {
      "text/plain": [
       "array([['m1_t0', 'm1_t1', 'm1_t2', 'm1_t3', 'm1_t5'],\n",
       "       ['m1_t8', 'm1_t7', 'm1_t9', 'm1_t4', 'm1_t6']], dtype='<U25')"
      ]
     },
     "execution_count": 101,
     "metadata": {},
     "output_type": "execute_result"
    }
   ],
   "source": [
    "import numpy as np\n",
    "from itertools import combinations\n",
    "from functools import reduce\n",
    "matrix = np.genfromtxt(\"model_forecasts.txt\", delimiter=\",\", dtype=np.float32)\n",
    "matrix = np.abs(matrix)\n",
    "matrix\n",
    "\n",
    "\n",
    "all_matches = list(combinations([0,1,2,3,4,5,6,7,8,9], 2))\n",
    "\n",
    "def is_valid_match_set(match_set):\n",
    "    flat_matches = reduce(lambda x, y: x + y, match_set, ())\n",
    "    return len(set(flat_matches)) == len(flat_matches)\n",
    "\n",
    "def find_all_valid_matches(matches, n):\n",
    "    if n == 0:\n",
    "        return [[]]\n",
    "    if not matches:\n",
    "        return []\n",
    "    \n",
    "    match, rest = matches[0], matches[1:]\n",
    "    with_match = list(filter(lambda x: is_valid_match_set([match] + x), find_all_valid_matches(rest, n-1)))\n",
    "    without_match = find_all_valid_matches(rest, n)\n",
    "    \n",
    "    return list(map(lambda x: [match] + x, with_match)) + without_match\n",
    "\n",
    "all_valid_matches = list(filter(lambda x: len(x) == 5, find_all_valid_matches(all_matches, 5)))\n",
    "\n",
    "\n",
    "def unpack_pairs(row_idx, col_idx):\n",
    "    return matrix[row_idx][col_idx]\n",
    "\n",
    "def rows(arr):\n",
    "    rows = arr[:,0]\n",
    "    cols = arr[:,1]\n",
    "    \n",
    "    unpack = np.vectorize(unpack_pairs)\n",
    "    result = unpack(rows.astype(int), cols.astype(int))\n",
    "    mean = np.mean(result)\n",
    "    return mean\n",
    "\n",
    "def tab(arr, i, result):    \n",
    "    if i == len(arr):\n",
    "        return result\n",
    "\n",
    "    result.append(rows(arr[i]))\n",
    "    i = i + 1\n",
    "    return tab(arr, i, result)\n",
    "\n",
    "\n",
    "test = tab(np.array(all_valid_matches), 0, [])\n",
    "array = np.array(all_valid_matches[np.argmin(test)])\n",
    "formatted_array = np.array([array[:, 0], array[:, 1]])\n",
    "\n",
    "output = np.vstack([np.char.add(\"m1_t\", formatted_array[0].astype(str)),\n",
    "                    np.char.add(\"m1_t\", formatted_array[1].astype(str))])\n",
    "\n",
    "output"
   ]
  }
 ],
 "metadata": {
  "kernelspec": {
   "display_name": "Python 3 (ipykernel)",
   "language": "python",
   "name": "python3"
  },
  "language_info": {
   "codemirror_mode": {
    "name": "ipython",
    "version": 3
   },
   "file_extension": ".py",
   "mimetype": "text/x-python",
   "name": "python",
   "nbconvert_exporter": "python",
   "pygments_lexer": "ipython3",
   "version": "3.8.20"
  }
 },
 "nbformat": 4,
 "nbformat_minor": 5
}
